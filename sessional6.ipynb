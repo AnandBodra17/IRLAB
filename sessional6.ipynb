{
 "cells": [
  {
   "cell_type": "code",
   "execution_count": 115,
   "metadata": {},
   "outputs": [],
   "source": [
    "import re\n",
    "import os\n",
    "import numpy as np\n",
    "import math"
   ]
  },
  {
   "cell_type": "code",
   "execution_count": 78,
   "metadata": {},
   "outputs": [],
   "source": [
    "path = \"C:\\\\Users\\\\acer\\\\Desktop\\\\shabbir\\\\cranfield\\\\\"\n",
    "\n",
    "file = open(path + \"cran.all.1400\",\"r\").read()"
   ]
  },
  {
   "cell_type": "code",
   "execution_count": 79,
   "metadata": {},
   "outputs": [],
   "source": [
    "filet = re.sub(r'\\n',' ',file)"
   ]
  },
  {
   "cell_type": "code",
   "execution_count": 80,
   "metadata": {},
   "outputs": [
    {
     "data": {
      "text/plain": [
       "1399"
      ]
     },
     "execution_count": 80,
     "metadata": {},
     "output_type": "execute_result"
    }
   ],
   "source": [
    "pattern = re.compile(r'\\.W.+?\\.I')\n",
    "bodytemp =  re.findall(pattern,filet);\n",
    "bodytemp\n",
    "\n",
    "body = []\n",
    "for bd in bodytemp:\n",
    "    body.append(bd[3:-3])\n",
    "    \n",
    "len(body)"
   ]
  },
  {
   "cell_type": "code",
   "execution_count": 81,
   "metadata": {},
   "outputs": [],
   "source": [
    "body.append(filet[-668:-1])"
   ]
  },
  {
   "cell_type": "code",
   "execution_count": 82,
   "metadata": {},
   "outputs": [
    {
     "data": {
      "text/plain": [
       "1400"
      ]
     },
     "execution_count": 82,
     "metadata": {},
     "output_type": "execute_result"
    }
   ],
   "source": [
    "len(body)"
   ]
  },
  {
   "cell_type": "code",
   "execution_count": 86,
   "metadata": {},
   "outputs": [],
   "source": [
    "def tokenize_text(text, min_length = 3, lower = False):\n",
    "    text = re.sub(r'\\s+',\" \",text)\n",
    "    pattern = re.compile(r'^[A-Za-z0-9]*[-]?[A-Za-z0-9]*$')\n",
    "    \n",
    "    if(lower):\n",
    "        text_sep = [tk.lower() for tk in list(filter(pattern.match,text.split(\" \"))) if len(tk) > min_length]\n",
    "    else:\n",
    "        text_sep = [tk for tk in list(filter(pattern.match,text.split(\" \"))) if len(tk) > min_length]\n",
    "    \n",
    "    tk_map = {}\n",
    "    for tk in text_sep:\n",
    "        if(tk_map.get(tk) == None):\n",
    "            tk_map[tk] = 1\n",
    "        else:\n",
    "            tk_map[tk] = tk_map[tk] + 1\n",
    "    \n",
    "    return tk_map"
   ]
  },
  {
   "cell_type": "code",
   "execution_count": 87,
   "metadata": {},
   "outputs": [],
   "source": [
    "tokens = []\n",
    "for doc in body:\n",
    "    tk = tokenize_text(doc,4,True)\n",
    "    tokens.append(tk)\n"
   ]
  },
  {
   "cell_type": "code",
   "execution_count": 89,
   "metadata": {},
   "outputs": [],
   "source": [
    "vocab = []\n",
    "for tokenlist in tokens:\n",
    "    vocab.extend(tokenlist.keys())\n",
    "\n",
    "vocab = list(set(vocab))"
   ]
  },
  {
   "cell_type": "code",
   "execution_count": 90,
   "metadata": {},
   "outputs": [
    {
     "data": {
      "text/plain": [
       "7262"
      ]
     },
     "execution_count": 90,
     "metadata": {},
     "output_type": "execute_result"
    }
   ],
   "source": [
    "len(vocab)"
   ]
  },
  {
   "cell_type": "code",
   "execution_count": 96,
   "metadata": {},
   "outputs": [],
   "source": [
    "tf_mat = []\n",
    "for cterm in vocab:\n",
    "    row = [ tokens[i][cterm] if tokens[i].get(cterm) != None else 0 for i in range(len(tokens))]\n",
    "    tf_mat.append(row)\n"
   ]
  },
  {
   "cell_type": "code",
   "execution_count": 104,
   "metadata": {},
   "outputs": [],
   "source": [
    "tf_mat = np.array(tf_mat)"
   ]
  },
  {
   "cell_type": "code",
   "execution_count": 106,
   "metadata": {},
   "outputs": [
    {
     "data": {
      "text/plain": [
       "(7262, 1400)"
      ]
     },
     "execution_count": 106,
     "metadata": {},
     "output_type": "execute_result"
    }
   ],
   "source": [
    "tf_mat.shape"
   ]
  },
  {
   "cell_type": "code",
   "execution_count": 129,
   "metadata": {},
   "outputs": [],
   "source": [
    "idf = []\n",
    "\n",
    "for cterm in vocab:\n",
    "    count = 0\n",
    "    for tk_map in tokens:\n",
    "        if(tk_map.get(cterm)):\n",
    "            count = count + 1\n",
    "    idf.append(math.log(len(tokens)/count))"
   ]
  },
  {
   "cell_type": "code",
   "execution_count": 130,
   "metadata": {},
   "outputs": [],
   "source": [
    "idf = np.array(idf)"
   ]
  },
  {
   "cell_type": "code",
   "execution_count": 119,
   "metadata": {},
   "outputs": [],
   "source": [
    "# idf = np.reshape(idf, (7262, 1))"
   ]
  },
  {
   "cell_type": "code",
   "execution_count": 131,
   "metadata": {},
   "outputs": [
    {
     "data": {
      "text/plain": [
       "(7262,)"
      ]
     },
     "execution_count": 131,
     "metadata": {},
     "output_type": "execute_result"
    }
   ],
   "source": [
    "idf.shape"
   ]
  },
  {
   "cell_type": "code",
   "execution_count": 132,
   "metadata": {},
   "outputs": [],
   "source": [
    "tfIdf = []\n",
    "for i in range(len(tf_mat)):\n",
    "    tfIdf.append([ tf*idf[i] for tf in tf_mat[i] ])\n"
   ]
  },
  {
   "cell_type": "code",
   "execution_count": 135,
   "metadata": {},
   "outputs": [],
   "source": [
    "tfIdf = np.array(tfIdf)"
   ]
  },
  {
   "cell_type": "code",
   "execution_count": 139,
   "metadata": {},
   "outputs": [],
   "source": [
    "path = \"C:\\\\Users\\\\acer\\\\Desktop\\\\shabbir\\\\cranfield\\\\\"\n",
    "\n",
    "qfile = open(path + \"cran.qry\",\"r\").read()\n",
    "qfilet = re.sub(r'\\n',' ',qfile)"
   ]
  },
  {
   "cell_type": "code",
   "execution_count": 143,
   "metadata": {},
   "outputs": [],
   "source": [
    "qbodytemp =  re.findall(pattern,qfilet);\n",
    "qbodytemp\n",
    "\n",
    "qbody = []\n",
    "for bd in qbodytemp:\n",
    "    qbody.append(bd[3:-3])"
   ]
  },
  {
   "cell_type": "code",
   "execution_count": 150,
   "metadata": {},
   "outputs": [],
   "source": [
    "qbody.append(qfilet[-86:-1])"
   ]
  },
  {
   "cell_type": "code",
   "execution_count": null,
   "metadata": {},
   "outputs": [],
   "source": []
  }
 ],
 "metadata": {
  "kernelspec": {
   "display_name": "Python 3",
   "language": "python",
   "name": "python3"
  },
  "language_info": {
   "codemirror_mode": {
    "name": "ipython",
    "version": 3
   },
   "file_extension": ".py",
   "mimetype": "text/x-python",
   "name": "python",
   "nbconvert_exporter": "python",
   "pygments_lexer": "ipython3",
   "version": "3.7.4"
  }
 },
 "nbformat": 4,
 "nbformat_minor": 2
}
